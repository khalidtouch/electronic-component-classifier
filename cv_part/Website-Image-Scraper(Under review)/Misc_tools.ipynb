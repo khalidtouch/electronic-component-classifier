{
 "cells": [
  {
   "cell_type": "markdown",
   "metadata": {},
   "source": [
    "<h3>Google Image Scrapper for Juypter Notebook</h3>"
   ]
  },
  {
   "cell_type": "code",
   "execution_count": null,
   "metadata": {},
   "outputs": [],
   "source": [
    "import os\n",
    "from GoogleImageScrapper import GoogleImageScraper\n",
    "from patch import webdriver_executable\n",
    "\n",
    "webdriver_path = os.path.normpath(os.path.join(os.getcwd(), 'webdriver', webdriver_executable()))\n",
    "image_path = os.path.normpath(os.path.join(os.getcwd(), 'photos'))\n",
    "#add new search key into array [\"cat\",\"t-shirt\",\"apple\",\"orange\",\"pear\",\"fish\"]\n",
    "search_keys= [\"cat\",\"t-shirt\"]\n",
    "number_of_images = 20\n",
    "headless = False\n",
    "#min_resolution = (width,height)\n",
    "min_resolution=(0,0)\n",
    "#max_resolution = (width,height)\n",
    "max_resolution=(1920,1080)\n",
    "for search_key in search_keys:\n",
    "    image_scrapper = GoogleImageScraper(webdriver_path,image_path,search_key,number_of_images,headless,min_resolution,max_resolution)\n",
    "    image_urls = image_scrapper.find_image_urls()\n",
    "    image_scrapper.save_images(image_urls)\n"
   ]
  },
  {
   "cell_type": "code",
   "execution_count": null,
   "metadata": {},
   "outputs": [],
   "source": [
    "import os\n",
    "import cv2\n",
    "folder = 'photos/chinese cargo boat/'\n",
    "for i in os.listdir(folder):\n",
    "    new_name = 'new' + i\n",
    "    print(\"Old image file: \",folder + i)\n",
    "    os.rename((folder+i), (folder+new_name))\n",
    "    print(\"changed to\")\n",
    "    print(\"New image file:\",folder + new_name)\n"
   ]
  },
  {
   "cell_type": "markdown",
   "metadata": {},
   "source": [
    "## Extracting Video to Image Frames"
   ]
  },
  {
   "cell_type": "code",
   "execution_count": null,
   "metadata": {},
   "outputs": [],
   "source": [
    "import os\n",
    "import cv2\n",
    "\n",
    "root_folder = \"Bridge\"\n",
    "sub_folders = [\"bridge\", \"gantry\"]\n",
    "categories = [\"on_land\", \"on_air\"]\n",
    "save_folder = \"video_frames\"\n",
    "\n",
    "for sub_folder in  sub_folders:\n",
    "  current_folder = os.path.join(root_folder,sub_folder)\n",
    "  for category in categories:\n",
    "    current_subfolder = os.path.join(current_folder, category)\n",
    "    for video in os.listdir(current_subfolder):\n",
    "      current_video_name = os.path.splitext(video)[0]\n",
    "      save_path = os.path.join(save_folder,sub_folder,category,current_video_name)\n",
    "      if not os.path.exists(save_path):\n",
    "        os.makedirs(save_path)\n",
    "      print(f\"Current video: {os.path.join(current_subfolder, video)}\")\n",
    "      vidcap = cv2.VideoCapture(os.path.join(current_subfolder, video))\n",
    "      success,image = vidcap.read()\n",
    "      count = 0\n",
    "      print(success)\n",
    "      if success:\n",
    "        print(f\"Now extracting from {video} in {current_subfolder}. \\n\")\n",
    "        while success:\n",
    "          vidcap.set(cv2.CAP_PROP_POS_MSEC,(count*1000))\n",
    "          success,image = vidcap.read()\n",
    "          # cv2.imwrite(\"frame%d.jpg\" % count, image)     # save frame as JPEG file      \n",
    "          # success,image = vidcap.read()\n",
    "          print('Reading frame: ', count)\n",
    "          # print(os.path.join(save_path, f\"{current_video_name}_{count}.png\"))\n",
    "          try:\n",
    "            cv2.imwrite( os.path.join(save_path, f\"{current_video_name}_{count}.png\"), image)\n",
    "            print(f\"Current image save as {current_video_name}_{count}.png \")\n",
    "            count += 1\n",
    "          except:\n",
    "            print(f\"All frames extracted from {current_video_name}.\")\n",
    "            break"
   ]
  }
 ],
 "metadata": {
  "interpreter": {
   "hash": "1a78bb8717b0d234854bf9b5d9ed5c93eec43459027a18bd8e8fd1e4b3bd3ecb"
  },
  "kernelspec": {
   "display_name": "Python 3.8.8 ('imagescraper')",
   "language": "python",
   "name": "python3"
  },
  "language_info": {
   "codemirror_mode": {
    "name": "ipython",
    "version": 3
   },
   "file_extension": ".py",
   "mimetype": "text/x-python",
   "name": "python",
   "nbconvert_exporter": "python",
   "pygments_lexer": "ipython3",
   "version": "3.8.8"
  }
 },
 "nbformat": 4,
 "nbformat_minor": 4
}
